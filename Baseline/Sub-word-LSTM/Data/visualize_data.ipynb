{
 "cells": [
  {
   "cell_type": "code",
   "execution_count": 2,
   "metadata": {},
   "outputs": [],
   "source": [
    "import pandas as pd"
   ]
  },
  {
   "cell_type": "code",
   "execution_count": 3,
   "metadata": {},
   "outputs": [
    {
     "name": "stdout",
     "output_type": "stream",
     "text": [
      "IIITH_Codemixed.txt\t  Xtest_new_experiment.h5    Ytest_new_experiment.pkl\r\n",
      "sem_eval_data.txt\t  Xtrain_lstm128_subword.h5  Ytrain_lstm128_subword.pkl\r\n",
      "visualize_data.ipynb\t  Xtrain_new_experiment.h5   Ytrain_new_experiment.pkl\r\n",
      "Xtest_lstm128_subword.h5  Ytest_lstm128_subword.pkl\r\n"
     ]
    }
   ],
   "source": [
    "!ls"
   ]
  },
  {
   "cell_type": "code",
   "execution_count": 10,
   "metadata": {},
   "outputs": [],
   "source": [
    "data = pd.read_csv('sem_eval_data.txt',delimiter='\\t',names=[\"1\",\"2\",\"3\",\"4\"])"
   ]
  },
  {
   "cell_type": "code",
   "execution_count": 16,
   "metadata": {},
   "outputs": [
    {
     "data": {
      "text/plain": [
       "(array([4459.,    0.,    0.,    0.,    0., 5638.,    0.,    0.,    0.,\n",
       "        5034.]),\n",
       " array([0. , 0.2, 0.4, 0.6, 0.8, 1. , 1.2, 1.4, 1.6, 1.8, 2. ]),\n",
       " <a list of 10 Patch objects>)"
      ]
     },
     "execution_count": 16,
     "metadata": {},
     "output_type": "execute_result"
    },
    {
     "data": {
      "image/png": "[encoded data removed]",
      "text/plain": [
       "<Figure size 432x288 with 1 Axes>"
      ]
     },
     "metadata": {
      "needs_background": "light"
     },
     "output_type": "display_data"
    }
   ],
   "source": [
    "import matplotlib.pyplot as plt\n",
    "plt.hist(data[\"4\"])"
   ]
  },
  {
   "cell_type": "code",
   "execution_count": 26,
   "metadata": {},
   "outputs": [
    {
     "name": "stdout",
     "output_type": "stream",
     "text": [
      "@ AdilNisarButt pakistan ka ghra tauq he Pakistan Israel ko tasleem nahein kerta Isko Palestine kehta he - OCCUPIED PALESTINE 0\n",
      "Madarchod mulle ye mathura me Nahi dikha tha jab mullo ne Hindu ko iss liye mara ki vo lasse ki paise mag liye the … https // t . co / oxf8tr3bly 0\n",
      "@ narendramodi Manya Pradhan Mantri mahoday Shriman Narendra Modi ji Pradhanmantri banne par Hardik Badhai tahe Dil … https // t . co / pRnoMsKkn1 2\n",
      "@ Atheist _ Krishna Jcb full trend me chal rahi aa 2\n",
      "@ AbhisharSharma _ @ RavishKumarBlog Loksabha me janta sirf modi ko vote de rahi thi na ki kisi MP or BJP ko without m … https // t . co / sHtBWCB7FM 2\n",
      "@ noirnaveed @ AngelAhana6 @ cricketworldcup Bhosdike tum pechvade ki tatti hi rahoge bc 0\n",
      "Love u Bhaijan ...♥♥ Father + son .. # Bharat # IAmBharat # BharatThisEid BEST Pic From Entire # Promotions ... Mashallah … https // t . co / S2xhwU6LUD 2\n",
      "@ manojgajjar111 Tumhara pass abh deemagh hai nahi islea Google ko apna deemagh banaya hua hai . Har koi tumhari tarh … https // t . co / BxuEug3xsN 0\n",
      "@ Mahlogo _ nolo Weni ankere o gae this weekend 😂😂😂😂😂 2\n",
      "@ Aurangzeb _ AIMIM @ SachinS40805591 Lage raho mullo tumhre issi Quran faad gyan ki kayal hain duniya Allah bhi khus … https // t co / GHa9dWNZ6u 0\n",
      "@ reema _ omer @ BushraGohar @ QasimKhanSuri @ Ali _ MuhammadPTI Pakhtoon k haqooq ki jang nahi punjab k haqooq ki jung pak … https // t . co / R7pjojNwre 0\n",
      "@ cooladitaya @ khanumarfa Ye sale is desh ke kabhi sage nahin ho sakte Ye gaddar hain Inke sath kadi se kadi kanun … https // t co / 0HuukV4zK2 0\n",
      "@ HYUN7lN saf baby (( i ’ m sorry i wasn ’ t online i hope you ’ re sleeping well though i love you 2\n",
      "@ Nevveon Real life k log chor diye hain mene already jo snakes thy ab internet k chorne hain ... i'm sad for no reason solmon ((( 0\n",
      "@ mjdawar Mohsin DawarTweets daikho aur kuch kha ker mar jao Bayghayrat insanTum aur Ali Wazir harami ho . Pakistan … https // t . co / i9vB0emof3 0\n",
      "@ AnupamPKher Kuch media channel dikh rahe hai ki inke upar kai prakaar ke criminal cases hai shame on this type of media channel 0\n",
      "@ EkThaEngg @ AnupamPKher Abe mc .. nhi malum to ammi mat chuda bsdk .. grahm stains ko dara singh ne mara tha adivasiy … https // t . co / cL4elcDUe8 0\n",
      "@ tamashbeen _ Well chara Chor ke chele this news is a year old ... 0\n",
      "Twitter k baghair apna roza mumkin nahi hota ? Apna chutiyaap dusron per thopna band karo Bhai ! https // t . co / APKD4G8lh0 2\n",
      "Oh haha the soldier is reading American Gods hardy har har thanks for reminding everyone of your OTHER clusterfuck 0\n",
      "@ asadowaisi @ PMOIndia Mp me govt kamalnath ki h ... Wese ek or video viral h jisme aapke shantidut bhai ek dukandar … https // t . co / doLm3ODDCs 0\n",
      "@ idevadhikari Dev da tmr new movie song Ami tmk valobasi I really loved ❤😘 a lot 😍😘☺❤💓 1\n",
      "Abe BC kya le jayenge yeh toh batah abhi 😜 # PAKvWI Babaji Ka Thullu 😂 https // t . co / RtZucwCQxA 2\n",
      "I hope I see my baby this weekend but highly doubt it 🥺 ugh 1\n",
      "@ DesiStupides Teri ma ka sakinaka tujhe Bhadi chinta ho rahi aaj ab 2014 se pehle bhadve log bethe the tab tu dudh … https // t . co / NE5QxI2ArO 0\n",
      "@ RubikaLiyaquat Isko zammene chayiye bus dogma hai ye kabhi akhilesh ki tareef karta hai aur kabhi rahul me pm dikh … https // t co / hIrIgg0WnT 1\n",
      "@ AskAnshul Jai Shri Ram Jai Shri Krishna Jai Bajrang Bali Jai Bholenath !!! Hum log Bolne lage to rukenge nahi … https // t co / aTYbGSp5qe 0\n",
      "@ praneeth _ rao @ IndiaHistorypic Hindi tumhari bass ki nahi . Nahi seekh paoge . Darte ho kahin Hindi me marks hi nahi … https // t . co / 23t3ylApsE 0\n",
      "@ TalhaGhouri786 @ shahidmemon20 Hamyat tu khota khor corrupt ganje ki bhi kerte thy kia ukhar lia unhon ne ....... Lanat tere te patwari 0\n",
      "RT @ shirai _ io On sale today # NXTTakeOverXXV !! It ’ s my entrance mask . quality is very very nice 👍🏻 Even back side too . Coming soon @ WW … 2\n",
      "@ Alee _ Ch1 @ SHABAZGIL Pakeeza language ka istemaal tu koi Nooni bhayoon se poochhay Youthie pe aewen e criticism karte Hain . Yeh bhi sahb 1\n",
      "@ SenTi _ GuLwisH Nahi wo is news ko defend kerne ki koshesh ker rhe hain https // t . co / uxIfr8Z0ZF 1\n",
      "RT @ vikas _ murali @ sardesairajdeep Noone cares We will boycott world cup till # Nesamani recovers and his attacker Krishnamurthy is arreste … 1\n",
      "@ M _ AHMAD884 @ shahnaveid 1971 😂🤣🤣 Lulli hoti nahi khadi Baten karalo badi badi https // t . co / NNkAZEEx3x 1\n",
      "RT @ FaizanSays23 Dho diya ashk-e-nadamat ne gunahon ko meray tar hua daman to baare paak daman ho gaya . ~ Momin khan Momin 1\n",
      "@ kanhaiyakumar @ kanhaiyakumar beta nafrat tum jaise jahil ( illiterate ) failate hain Pata nhi kon si phd chal rhi h … https // t co / j8puwJMrNv 0\n",
      "@ MirchiSayema One of my favorites too . Another one at the beginning of the movie . Chhoti-chhoti chitrayi yaadein … https // t . co / sLaOp3nBIi 2\n",
      "@ waseemAli0007 @_ Mansoor _ Ali @ ImranKhanPTI Tera nam taray ander ki jalan btaa raha hai . Sari duniya main oil price … https // t . co / yTXZdq5Rbz 0\n",
      "@ cbhanp . JAI BHEEM . . Great News for BAHUJAN KUMBKARNAAS becoz of whom this is in Happening . This is the Kick St … https // t . co / 3rxsK19BVd 1\n",
      "don ’ t u love when the one person that gave a fuck about u is dead -) 1\n",
      "@ maham _ zaini _ @ peaceforchange En ki zalalat ki daastano se tareekh k aoraaq bhare pare hai behna ye aise nahi samaj … https // t . co / KV53ldcyTY 2\n",
      "@ Tang _ color Tum india wale sari yahi sochti ho ki Pakistan wale atankistan h par nhi kuch he log lagti h thik Pakistani bhuta achi h 2\n",
      "@ sardanarohit Rohit bhai I am your big fan Want to meet you 2\n",
      "@ bavS9ZSdtS9YtXz ma lanat bhejta hn tun pe or tmare harami leader niazi pe 0\n",
      "@ I _ dont _ slay @ ATSBB 🤣🤣🤣🤣🤣 Inta seriously nahi leneka segments ko Segments are pure fun 80% nonsense and only cast makes sense 0\n",
      "@ KRKBoxOffice @ kamaalrkhan @ itsBhushanKumar @ ZeeMusicCompany Kutta bhonkne lga bhaiyo firse ....... sale gale me patt … https // t . co / qYfZx4O0WL 0\n",
      "@ shoaib100mph World cup mein mard nahi khusre gae hein jo larna nahi Twitter per @ ZAbbasOfficial k sath talian bajana jaante hein 0\n",
      "@ BeingSalmanKhan Bhaijaan ji please mein apka bahot bahot bada fan hoon please meri Jindagi bachalijiye please mein … https // t . co / Y4sXTj6duO 1\n",
      "@ BabaJotwani The scene where sahil proposed to vedika ... That Dialogue was magical indeed coz I haven't heard that … https // t . co / 6jP3eglA5d 2\n",
      "@ yadavdimples @ kanhaiyakumar @ pbhushan1 A bhauji tohra ka haal ba tu kahe Ludhak gailu .... Eka matlab Akhilesh bha … https // t . co / i2j34CV3pX 1\n",
      "Scratch that . KFC ke bhi auqaat nahi rahee after today's defeat - pesay doob gayee Sarfi ke chakaar main . Andaay … —… https // t . co / Nw2A4ipBBe 0\n",
      "RT @ aakashsoni786 # DSSCampaignAgainstDrugAbuse @ Gurmeetramrahim Papa Ji Aj Mera P hd Entrance Exam Tha Ap Ji Ki Rehmt se Bahut Acha ho gy … 2\n",
      "To all muslim sab e qadar mubarak 💓💓💓 https // t . co / 0NKi2uqqVE 2\n",
      "@ Jainritesh _ rj @ abpnewshindi @ ShashiTharoor kai bar product khrab nhi hota logo ki choice khrab hoti hai product ki … https // t co / mKStT0EbgN 1\n",
      "Aaiye Aapka Intezaar Tha .... DAMN !!!!! Kitna khoobsurat hai yeh ladka . Mashallah 😘😘😘 Can't wait for new season … https // t . co / mJxckM1CAo 2\n",
      "RT @ Being _ Zeeshan09 Love u Bhaijan ... Father + son .. # Bharat # IAmBharat BEST Pic From Entire # Promotions ... Mashallah 👌♥🔥 https // t . co / o6d … 2\n",
      "@ BaBoo _ sAhEb _ To Tera jat talbani Jess harqate kyu Kar tahe masum logo ko kyu Marta tab Tera ammi kaha Mar jate he … https // t . co / 74Zn3UNmDh 0\n",
      "@ ANI Mazhab ke naam par Election jeetna koi bada kaarnama nahi hota A message to @ asadowaisi and @ narendramodi https // t . co / RRMXHuYnUU 0\n",
      "@ phata _ dhol __ Seriously one of the best post i have seen . Bravo nd respect 2\n",
      "RT @ 1RockChickie May Allah bless us all with strong imaan taqwa piety a pure heart and good manners . 🌹 Ya Allah give me eyes that se … 2\n",
      "Chiller man giving big jhtka # NSEcoloScam has made it a laughing stock @ firstpost @ aajtak @ anjanaomkashyap https // t . co / HLOCU0zKQJ 1\n",
      "RT @ omcswe u do things for ppl u adore because u just want to . it's not a transaction . it's not give & take . u do because it's what u r su … 1\n",
      "@ GeetaJo03646903 Apne desh ke logo ko thug kar Chala Sanjeev Kapoor world cup dekne 0\n",
      "@ aajtak ab ye btaega . isse pucho tere jiyne b MLA hai usme se gina hindu MLA kaunsa hai teri muslim awaadi wale gaao … https // t . co / 5FIJFBYoJk 1\n",
      "@ Aye _ Haaa No lie I think you should buy a new pair bc I haven ’ t put these shits on the charger in a minute 😂 1\n",
      "@ fahadmustafa26 @ aijazz7 @ faysalquraishi @ Jerjees Bhai yeah glasses wali admi kon hai jo appki har pic main hota hai ...? 1\n",
      "RT @ bhattd77 @ MamtaOfficial @ TajinderBagga @ Sumita09445393 Mumta Bano Mhatma Ghandhi ki smadhi pe nhi jayegi kyu ? Vhan Ghandhi ji ke akhi … 1\n",
      "@ Deepak151089 @ Beingmemyself @ UrvashiKothari1 @ LynchNashun @ waglenikhil India me to modi ji aaane k baad muslims sa … https // t co / gLUFjl0Ge3 1\n",
      "Boy kiya age hy tmhri ✴❔❓⁉ Girl 17❗😏 Boy be mine . I LOVE YOU 😗❤💓 Girl I'm taken 💏 Boy abhi tmhri umer hi … https // t . co / IlBOuFff39 1\n",
      "@ undefined _ here @ SyedaSaba12 @ Syed _ Ali _ 9 BTW kisi jhootay maseeha ko maseeha man leny sy qafir nahi ho jata koi .. K … https // t . co / 6UANAmRvn2 0\n",
      "Mc hai sala @ imVkohli sale lo jyada ghamand hai .. Kuch din ruk sale tera ghamand dur ho jayega .. https // t . co / Bek19Z9oR3 1\n",
      "@ Shaan _ pathan _ 14 @ DwivediAnukriti Ikk toh sarkar job ni de rhi or upper se apne india ke log kaam karna nahi chahat … https // t . co / zfkm4obLd6 1\n",
      "@ RJDforIndia Han Chara ghotale mein bhi to laloo ne kitney hi gavahon ki maut ke ghat utar Diya that 0\n",
      "🏵️ Good Morning @ Gurmeetramrahim papa ji plz bless me more sewa sumiran parmarth ka bal bakhshna ji Dhan dhan sa … https // t co / 5HrgLfFwzb 2\n",
      "@ mona _ qau Pakistani girls photo without Pakistan ka karz Ada karo Pakistani girls for Heera Mandi Mein Bata Do Karz … https // tco / X60Lm1iVfs 1\n",
      "@ ur _ boi _ kdo Most unpractical and cool sword I ’ ve seen 1\n",
      "@ suhailswarraich Journals k bare me . Bt ki isne jbhi isko ye cripption Ka certificate dia Gaya h 2\n",
      "@ GauravGarg888 @ PrashantMavani sir # prashant _ dhawan is kohinoor of study iq he is the best teacher of current aff … https // t co / 1Jdprmlpvi 2\n",
      "@ ReallySwara Last checked MP me Congress ki Sarkar hai and law and order is a state subject . 1\n",
      "@ RAShahzad1 Yeah jo aap hamara roza kharaab karay hain na yeh uss ka notice hay lol . Allah aap ko aur aap ki family … https // t . co / 8UQl4MVHJ3 1\n",
      "Desh ke gaddaro ke liye 5 saal bahut painful hoge kyoki Mota Bhai is now home minister of India 🇮🇳 💪😜😜 https // t . co / H1CxoIOYzI 1\n",
      "🌺 Ekto aap log 😉 muskurate bhut ho ...... or sharmate 😆 bhi bhut ho ..... Dil to karta hi Aaplogon ko Eid pr bolaun ..… https // t . co / uWH4extxel 2\n",
      "@ marvisirmed @ mjdawar Nice joke tmhare ghaddaron ko danda janay waala hai landay Ka istimal maal .. pakra hai ussay … https // t . co / IUQCnQH18j 1\n",
      "@ sherryontopp Antar atma ko bech Diya hain jab tak beijjat karke bhagaya nahi jata tab tak nahi hilega lekin rahe … https // t co / 2tTS9F7mPx 2\n",
      "Khan sahab apko vote diya taky ap PM bany or Alhamdulillah ap bany bi PM 😘😘😘 magar Khan Sahab ab to gabraht ho rahi … https // t . co / JN3t2dIEno 1\n",
      "@ pnbindia sir mere a / c se 22/04/2019 ko Rs1180 /= deduct ho gaya hai kekin branch office kahta ki mai nahi janta ki k … https // t . co / DVr9Ys83Qs 1\n",
      "@__ Amrann You can ’ t even be nice for a second smh 😓 salaam my love 😩 1\n",
      "@ AmitShah @ narendramodi Aapko bahut bahut badhai ho Amitshah ji asha karte Hain ki aap bhi Modi ji ki tarah hi hama … https // t . co / 1hTGPqK2ma 1\n",
      "@ MileyCyrus It would bring me great joy to hear your rendition of Des ’ ree ’ s “ You Gotta Be ”. Just sayin . XOXO 1\n",
      "@ MaryamNSharif Mera khayal he apki nazron se woh document nehein guzra jis me apke papa ne bahir janey keley Mushar … https // t co / ah7L8yL1jj 1\n",
      "RT @ amnajhk no one no one at all jane the virgin narrator i knoOW ! straight out of a telenovela right ????? 1\n",
      "@ RajivBrar1810 @ addatoday @ ajaydevgn @ Rakulpreet Bhai plz bhagwan kre # Bharat acchi movie ho qki # dedepyarde jitna … https // t co / bAac04J8Yo 1\n",
      "RT @ GuruOfficial Wishing my bro @ officialvee a very happy birthday . Many more hits on the way together 🙏😊 THANKYOU for giving music to so … 2\n",
      "RT @ arydigitalasia Apki aik gawahi ne Mannat ko pagal saabit kerdia hai ... Watch # Cheekh tonight at 1000 PM only on # ARYDigital https /… 1\n",
      "just listened to my first jojo siwa song ............. i am a fan lol 1\n",
      "@ RamshaOfficial Sara masla is hi bande ki wajh se hai .. yehi fasad ki jar hai ... is ko team nhe chalane ati ... In palyers ka aps men hasd hai 1\n",
      "@ Being _ SK _ Chetan @ taran _ adarsh Abe chutiye tera criminal jaisa ghatiya publicity stunt to nhi kr rha h n jo unneces … https // t . co / qP8ZPE3PIY 0\n",
      "@ purplemoon _ 613 Kung hnd ko pa checheck bat ka DM ko mukha ni Jungkooky hnd ko maalala na ikaw to HAHAHA 1\n",
      "Baby you did an amazing job today .. i hope you ’ re feeling good .. i wish i would be at your hotel room wating for yo … https // t . co / G7RWHiIDhs 2\n",
      "Dil k khush krny ko ghalib khyal acha ha .... what a myth 😂 https // t . co / efnod8IjPj 1\n",
      "@ MaryamNSharif ALLAH jise chahe Izaat de r jise chahey zilat dt Dua ha ALLAH Nawaz shareef ko us k khandan ko r u … https // t . co / xWjrUnsw88 1\n",
      "RT @ RajheshVaidhya # NGK good one ... kudos to the heroes @ Suriya _ offl @ selvaraghavan @ thisisysr 2\n",
      "@ IndiaToday @ OfficeOfKNath SAHI HOGA SAYAD TABHI SIRF APPKI CHANNEL PE YE DIKH RAHA HAI WARNA KUCH BIKAV MEDIA … https // tco / buhKQcVF92 1\n",
      "@ Mr _ Ez1403 Ja na Pakistani 🐖 pig + Dukkar + kutta + suvar ki mix aulad 😂😂😝😝😆😆😛😛🤣🤣😖😖😆😆😆 0\n",
      "Aise barish se dosti a66i nahi maaraz tere khud ka gar mitti ka h Ku6 to khyal kar Tera intzar har koi nahi karega … https // t . co / VnzralLxAe 1\n",
      "@ anooymous @ IlhanMN What the fuck does this mean apna neeche ka band karke rakhna jyada kholne ki jaroorat hani ??… https // t . co / 2CebLvQqNO 0\n",
      "Ham tu ak ayena ha tu dikhaya gya dagh chahru ka Jis ku bura laga samna sa hat jay .... We love pak army 👍💪💪 https // t . co / PlH8tCA0F9 1\n",
      "@ BCCI @ DineshKarthik Happy birthday to you bhai . I pray to BABA VISHWANATH for your good health and bright future .… https // t . co / rOlgJ3GrdX 1\n",
      "@ Gurmeetramrahim good morning pita ji thanks for the new day pls bless me sewa sumrin and parmarth bakso ji … https // t co / WxsE6tR8F5 1\n",
      "@ indiatvnews @ ITBP _ official @ manishindiatv Superbbb voice arjun ji u have 🤗 realy its mean it so much ❤ i salute yuh .… https // t . co / YWKwB8QMit 2\n",
      "@ chhavi Absolutely right But in the history of independent India inclusion & secularism were talked about but nev … https // t co / UunSfRgQ0O 1\n",
      "@ Snowycaa Thicccccccc ! XD ( I can confirm that @ Snowycaa did this for a dare . I'm one of the witness hahaha .) 2\n",
      "@ rajnathsingh congrats sir .... Lucknow ki shaan bada di aapne ... veerta aur shaurya ki missal ab aap pesh kariyega ... Jai Hind 1\n",
      "@ IamHaseebAhmad @ majorgauravarya @ UN Ha ha ha . Cow mutr peeke we have won all wars against you guys . You should st … https // t . co / bcPtVRPMYc 1\n",
      "https // t . co / x4CcWjt1TA 💐 Doston My New sad song Pyar ki Raah Kathin written by My big brother Shivendra Sugam ... on … https // t . co / Jw8noGqkSF 1\n",
      "@ GdBakshiJe Modi ke jitne ka asar vipaksh pe he nahi padosiyo pe bhi hua hai . Bokhla gaye sare ke sare . Modi akela … https // t . co / zTp7lHsGrd 2\n",
      "@ IamImranAshraf Bholy bhayaa . Ufffff dil jeet liya ap ne . Love you imran bhai . Mind blowing ap ki acting hai . ALLA … https // t . co / 2r7dXd3z6J 2\n",
      "@ Triumvirate1 @ darshanbhatt22 @ Cid _ r4y Pori dunya 2019 main or tum log abhi bhi 1971 main 😂😂😂😂 Growup Ab kisi ko bhaija to sath khud aa jana 1\n",
      "RT @ ooobhaishab @ TerriblyMemer ne aate hi half century kr di 😂 Thnku bhai itne like ke liye 😁 https // t co / xT4GHjMFt2 2\n",
      "@ pranchal54 @ RemovArticle370 @ BJP4India Jansankhya aur atikraman desh ka sabse bada samasya hai Beat plastic pollution Jai hind 1\n",
      "@ ObcCarvan @ Hariramkoushik OBC bhikhari nahi hai aur bhenchod bheemte obc naam ka account bnakar apni maa chuda rah … https // t . co / ldNzC4eLKV 0\n",
      "@ Dr _ fizakhan # Pakistani girls photo without Pakistan ka karz Ada karo Pakistani girls for Heera Mandi Mein Bata Do … https // tco / YNyPUqUGo1 1\n",
      "@ aleemkhan _ pti Janab Thank you Very Much for your short Break @ my place )) May Allah protect you & your family … https // t . co / cFBKI3qagX 2\n",
      "@ gnnhdofficial @ Shahidmasooddr @ sayedzbukhari @ ImranKhanPTI @ PTIofficial @ pmln _ org @ MediaCellPPP Chalo g BC inhi c … https // t . co / MyrQnPgPIq 1\n",
      "@ akashbanerjee 👌 CONGRATULATIONS 👌 AKASH BHAI AAP KO PHIR SE 5 SAAL ➕ KA CONTRACT ✔ MIL GAYA # KeepItUp NOTE - SORRY … https // t co / Uvf7ij1Fse 2\n",
      "@ peaceforchange Husain haqqani sab ap time nikal k mar q nahi jatay is dharti py bojh he ho tum gaddar besharam . 0\n",
      "RT @ pepsi Nothing like a fresh hit of Pepsi on a day like today 👌 https // t . co / SUwcq5FQSv 2\n",
      "@ Rehan30837935 @ jalee _ na @ brumbyoz Pehle Tu apna photo DP rak phir bark kar kutte ki tarah Chal bhag yaha bandhar kahika 0\n",
      "@ SrBachchan Sir need ur blessing on my 9 wedding anniversary myself my wife sonia Pranam you AAP ka ashirwad b … https // t . co / LlvlhlOcyu 2\n",
      "@ Abhishekkar _ CNBC 🤣🤣🤣🤣🤣🤣 AKA sir ne to CNBC ke pahele bol diya tha https // t . co / h1rAzqIHs0 1\n",
      "Nxt five years main India change hone wala hai kyoki modi sarkar bht bda bdlav krne wali hai ... Ye main ni hmare modi sir ka kehna hai 2\n",
      "@ IamImranAshraf Uff kya acting he Bholey ji apki !!! Kamaal krdya . Aisa koi actor hi nai abtk jo is charactr k saat … https // t . co / mO82shhOTP 2\n",
      "Raand Congress se v Randwa RJD se buri tarah se HAARA vote denewale ko sadhuwad 1\n",
      "RT @ Varun _ dvn KALANK in theatres now # Zafar aap ka hain A character I loved playing in this epic love story No spoilers please https // t … 2\n",
      "@ PiyushGoyal @ narendramodi Bahut bahut badhai AAP jaise logo ke Karan hi Modi ji Ko majboori Mili hai . isi tarah se … https // t . co / 0F8OK0aQIW 2\n",
      "@ TahaSSiddiqui sasty or ghatya nashy kar k ye suwar samjhty is trah ki bakwas kar k humein sasti publicity mil jaegi 0\n",
      "RT @ sanjaymanjrekar Proud to have been part of this brilliant commercial released during 1996 WC time . Great production team that include … 2\n",
      "@ SKFforlife Haha Overrated kisko bolte hain chuuuu pehle yeh pata kar BC ata pata kuchh nahi chale aate hain … https // t co / BwbGTOzGs5 0\n",
      "POGO launches all new show kalari-kids Love the enthusiasm of my little ones when they saw # Chhotabheem dancing an … https // t . co / T8K47whZtL 2\n",
      "@ f _ i _ r _ k _ i Pakistani to aise hi 1992 ki rote rhte hain uss time to England ne 74 pe kar diya tha all-out . Iss baar bhi wohi ummeed hai 😂😂 2\n",
      "I wanted to see you in Loksabha @ kanhaiyakumar It's OK kanhaiya ji vichaar badlenge desh badlega vidhyarthi … https // t co / mE0EgrIsXp 2\n",
      "@ JBhrahmin @ ankimast Wow tum red plain saree pahen na bahut cute lagegi . Red plain saree with sleeveless blouse . Will look so awasome 1\n",
      "@ ChaBoyyHD Chaa .. Can ihave any cheap Ak ? Cuz Ak it's my Fav Weapon .. If u wan we can battle .. if i win u give me … https // t . co / xFDIrkRYpE 2\n",
      "Day by day this slogan has proven to be true afghani bhagao mulk bachao ! 0\n",
      "@ manakgupta wo election ke liye badha ke btaya tha accpt this is bar election commission or media ko bhi bewakoof bnaya h janta ke sath 0\n",
      "@ republic He is a bemaar bhikhari kutta why was he dying dub his stupid movies in hindi no wonder the people of tn … https // t . co / jj2g6rNBHr 1\n",
      "@ abpnewshindi ABP news 5 saal se mon nahi bhara Congress ko koste sawal karte ab tweet duwara mazaak urane aare … https // t . co / viwYGAryec 0\n",
      "RT @ SharmaRaghvi EVM hack ka bahana nhi chla paye 😜 Ab fir ye saath nikli slips ka le aaye Fir bhi ho gyi bye bye 👋👋 😝😜😂😂 # EVMScandal # EVM … 1\n",
      "RT @ Laliinsan1gmai1 Dhan dhan satguru tera hi aasra papa g good morning pita g @ Gurmeetramrahim @ derasachasauda # PledgeAgainstCorruption … 2\n",
      "Manmohan Singh being considered for party presidents post Ek chuppi hazaar baton se behtar hai usse badhiya udaharan nahi ho sakta 1\n",
      "One India sabka saath sabka vikas sabka visvas https // t . co / 0uLQ2GD2sc 2\n",
      "@ Aban __ Ind Prothom Kolkata campaigncalling media sangbad Biswa Bangla etc eisob chotokhato channel gulo dekho . Sudhu jai sree ram cholche . 1\n",
      "@ kshukla778 @ Payal _ Rohatgi Tere maa baap ne bohat badhiya sikhaya hai certificate batna sabko ki kaun kiska chamcha … https // t . co / xmdkSszCN2 0\n",
      "I miss them we were a craze .. we used for them .. bas koi kuch galat bolde .. old memories https // t . co / NeN57fFIVM 1\n",
      "@ mamata _ for _ PM Mumtaz bano hindu ko dhamki de rahi hai . bengal me hi nai pure desh me hindu ka khoon garam ho chuka … https // t . co / 3xoDg7raAt 2\n",
      "@ brokengaal i love u so much 😭♥️ and theres absolutely nothing to be insecure about bc ur unique in ur own way ok u … https // t . co / NOqwyyTgtI 2\n",
      "@ MaryamNSharif ap beti hein apko beshak apny baap ki yaad ati hoo gi Allah apko hosla dy pr certainly apka baap ek … https // t co / 5VVnmK6vFx 2\n",
      "Thank you all for supporting @ wayuutaya THANK YOU . THANK YOU !!! strongwitheliza samanthajayz angelmartin00 galiya _ s … https // t . co / CdqQtuABKg 2\n",
      "@ dhruv _ rathee Han to gaand k keede cow meat kliye pehle se bnde convicted h yeh log aur jb ban h to teri maa ko khilane jaa rha tha 0\n",
      "It ’ s proud moment for Ganjam that more than 83 students of Odisha Aadarsh Vidyalaya of Ganjam scored more than 90%… https // t . co / aTkLCOKzxT 2\n",
      "# PAKvWI 92 me WI 10 wickets se jeeta tha ajj 7 wickets se jeet gya world cup hamara hai .... Ye wali chawle koi na m … https // t . co / OLnE5K9PZO 2\n",
      "RT @ official _ engr @ peaceforchange Sir merey lye bahut khoshi ka maqam hoga agr ap ne mujy reply kya . Love you sir ❤ https // t . co / 3U8gb93Jl9 1\n",
      "I Love You '3000' I said ' Ek raat ka 5000 lungi ' she replied . # NewGFKiTalsshMe 2\n",
      "@ engrzeeshan91 Pr ye oopr jo btaya wo to surgery ni h na 😂 1\n",
      "@ tamannaahspeaks Very nice Tamanna Tamanna very nice I like you 2\n",
      "@ SachinPilot Apko deputy CM se minister chief kb bnaya ja rhaa h we r waiting 2\n",
      "@ akshay _ vbk78 @ spectatorindex Tera pichwada hai bc 🤣🤣 jb se modi ji jeete hai jali padi hai 🤣 Tabse pichwaade ki jagah muh se hag rahe ho 2\n",
      "@ SAfridiOfficial Shahid bahi wahab riaz ki bowling mein experience nahi sirf wide aur no balls hi hain 0\n",
      "@ shirishy _ Isko nikal dia tha world cup 2011 me sayad Ek Banda call p Aya bolta h India england and Australia ni ayga semifinal m 0\n",
      "RT @ Sukhjaykumar1 # PledgeAgainstCorruption @ Gurmeetramrahim Good afternoon guru g . bless us and give us power to do more and more Sewa S … 2\n",
      "It ’ s so nice seeing the glow-up of people after May-hem 😍 Congrats guys 👌🏻 wohooo !!! Bbye Tired Year !!! 2\n",
      "@ AcharyaPramodk Jitni media ne bjp ke liye prachar ki hai utna to khud bjp ne bhi bjp ke liye nahi surgical strike … https // t co / I2TP6XZOvG 2\n",
      "RT @ aftabkatauli1 @ khanumarfa @ thewire _ in @ therealnaomib @ SrishtiTW Siasat me rawadari hai samajhta hai . Wo roza to nahi rahta iftari sam … 2\n",
      "@ SAMBIT _ PATRAg @ anjanaomkashyap Sab she pahele tere gahr me kanon lago kr kiyo ke teri faimly pr tera kabo nahi he … https // t . co / scfwME6S7m 1\n",
      "@ arjunrammeghwal @ nstomar @ JoshiPralhad @ PIBHindi @ PIB _ India Arjun Ji 🙏🌹 jai punrasar baba ki Jai Bikaner Rajasthan … https // t . co / T6R7E5qpQM 1\n",
      "@ theskindoctor13 Doc saab bahut he badhiya video banaya andhere se much better hai 1\n",
      "@ MalboBagums Sari shairi tassali aur dilasay pay hi munhasir hoti hai .. warna shairi kyun karay koi agar pas ho kuch 😜 2\n",
      "@ hSghRjpt1 @ Nationalist _ Om gandhi ko ham isliye rastrapita mante hai kyu ki wo ahinsa vadi the ye nahi hote to aja … https // t . co / 0QqC7oTlSQ 2\n",
      "@ kamaalrkhan If i am not wrong you loved soty 2 naa ??😹😹 2\n",
      "Samaj mai ye nahi aaraha ki kyun halat mai sudhaar nahi ho raha hai kyun karyawahi nahi ki ja rahi roads per the … https // t . co / ZhyDlOgYwO 2\n",
      "@ squintneon Usko toh kejriwal ne khud reject kar diya tha . Education minister toh kejriwal khud bana sakta tha ? Raj … https // t . co / bea2LWY3ZQ 0\n",
      "@ sunoo _ chanda make a gentle and nice relation with someone .... life me kisi k sahare ki zarort parti ha 1\n",
      "@ dur _ rahiye Sex is cool but after nikah ose phele kise ko hath laga ne ka bhi haq nai hai hume 2\n",
      "@ KElectricPk Sub bakwas ha ye apni harkaton se baz nhi ayen ge kisi na kisi fault ko jawaz bana kr ye light band ra … https // t . co / IoOO1y4XLt 0\n",
      "@ AamAadmiParty @ ArvindKejriwal x cm Shila dixet or under karne wale the feku tum annaji ko b dhokha de diya 1\n",
      "@ pramila2710 @ DrKumarVishwas Lekin itne kharab result se KUTA BAUNA HARAMI HANDSOME SUVAR SINGH etc ka gussa … https // t co / 9sXAbdtkzA 0\n",
      "RT @ SonuNag13101789 # ValueTime _ ValueLife @ Gurmeetramrahim @ Derasachasauda Pujya guru ji kehte h ki jo insan samya ki kader karte h alasya … 1\n",
      "@ imMAK02 Are bsdkk ... Dhruv Tyagi ke bare main kitni bar Muslim aatankwad bola tune ... Vivek hatyakand ke bad teri zu … https // t . co / lCZbqkHD7b 0\n",
      "@ ZarinaBano _ Bharat ka Musalman hamesha secular govt k liye vote karta raha hai karta rahega . Haar jeet 1 sikke k d … https // t . co / CsOiGgFeOR 2\n",
      "Congress party ne pehle se feku bhakt Media ka agenda samaj liya hote to ye chunav nhi hartefeku bhakt Media ne fe … https // t co / GMIC7HjwOY 0\n",
      "@ Vipul49997183 @ dtptraffic Ghoda Ghaans se Dosti kar lega to khayega kya .. Delhi Sarkaar Home Ministry public ki na … https // t . co / EVp3m8f0i8 0\n",
      "RT @ BurgerKing for real tho we ’ re trying to pay off those loans . introducing Whopper Loans – make a purchase through the BK app for a cha … 1\n",
      "RT @ TAETAE _ PH Watching # BTSatWembley is making me miss them more . Sighhh I ’ m really hoping for BTS in PH 🥺😭💜 we miss you everyday guys @ BTS … 2\n",
      "@ asadowaisi How come he was the first man . What about earlier incidents .. Ab inke Naam se roti pel raha hai ... Shame on you 0\n",
      "Need is branch ke students ki hai jisase digiral India par force diya ja sake aur corruption bhi na ho .... Mai shr … https // t . co / 8VNEQ45Wyc 2\n",
      "Aap pichla 5 saal se media ka ghatna kramank Ko rewind karke dekhiye jabbi vipaksh ne ruling party ke neeti ke baar … https // t co / 932v5ZGoVj 2\n",
      "@ htTweets @ harijdas7 aur bakwas karma aur TV per galat sandesh dena to kam hua Instead each Congressi Neta aur Kar … https // t co / fvmBYlfEHl 0\n",
      "@ SatyaHindi @ ashutosh83B Desh aaghe baad raha hai ye religion ke naam pe bakwas karna baand karo .. aur tumhare AAP bhaiyon ko bhi shikhao .. 2\n",
      "RT @ aamir _ khan I'm very sad to hear about Veeruji passing away I had the pleasure & privilege of working with Veeruji He was an amazing pe … 2\n",
      "RT @ smithmaheshwari * Me as a father * Son - Papa aaj main night study ke liye jau ga Me - kitne baje Son - 10 baje tak Me - Haan … 1\n"
     ]
    }
   ],
   "source": [
    "for i in range(200):\n",
    "    print(data[\"2\"][i],data[\"3\"][i])"
   ]
  },
  {
   "cell_type": "code",
   "execution_count": 30,
   "metadata": {},
   "outputs": [],
   "source": [
    "from keras import models"
   ]
  },
  {
   "cell_type": "code",
   "execution_count": 32,
   "metadata": {},
   "outputs": [
    {
     "ename": "AttributeError",
     "evalue": "module 'keras.models' has no attribute 'load_weight'",
     "output_type": "error",
     "traceback": [
      "\u001b[0;31m---------------------------------------------------------------------------\u001b[0m",
      "\u001b[0;31mAttributeError\u001b[0m                            Traceback (most recent call last)",
      "\u001b[0;32m<ipython-input-32-4aaefd209ac0>\u001b[0m in \u001b[0;36m<module>\u001b[0;34m\u001b[0m\n\u001b[0;32m----> 1\u001b[0;31m \u001b[0mmodel\u001b[0m \u001b[0;34m=\u001b[0m \u001b[0mmodels\u001b[0m\u001b[0;34m.\u001b[0m\u001b[0mload_weight\u001b[0m\u001b[0;34m(\u001b[0m\u001b[0;34m'../Models/LSTM_new_experiment_weights.h5'\u001b[0m\u001b[0;34m)\u001b[0m\u001b[0;34m\u001b[0m\u001b[0;34m\u001b[0m\u001b[0m\n\u001b[0m",
      "\u001b[0;31mAttributeError\u001b[0m: module 'keras.models' has no attribute 'load_weight'"
     ]
    }
   ],
   "source": [
    "model = models.load_weight('../Models/LSTM_new_experiment_weights.h5')"
   ]
  },
  {
   "cell_type": "code",
   "execution_count": null,
   "metadata": {},
   "outputs": [],
   "source": []
  }
 ],
 "metadata": {
  "kernelspec": {
   "display_name": "env3",
   "language": "python",
   "name": "env3"
  },
  "language_info": {
   "codemirror_mode": {
    "name": "ipython",
    "version": 3
   },
   "file_extension": ".py",
   "mimetype": "text/x-python",
   "name": "python",
   "nbconvert_exporter": "python",
   "pygments_lexer": "ipython3",
   "version": "3.6.9"
  }
 },
 "nbformat": 4,
 "nbformat_minor": 2
}
